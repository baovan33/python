{
  "nbformat": 4,
  "nbformat_minor": 0,
  "metadata": {
    "colab": {
      "provenance": []
    },
    "kernelspec": {
      "name": "python3",
      "display_name": "Python 3"
    },
    "language_info": {
      "name": "python"
    }
  },
  "cells": [
    {
      "cell_type": "code",
      "execution_count": 10,
      "metadata": {
        "id": "J8WWPvHvsxmW"
      },
      "outputs": [],
      "source": [
        "import pandas as pd\n",
        "import numpy as np\n",
        "import matplotlib.pyplot as plt\n"
      ]
    },
    {
      "cell_type": "markdown",
      "source": [
        "**Import dữ liệu**"
      ],
      "metadata": {
        "id": "C15lzunTunH3"
      }
    },
    {
      "cell_type": "code",
      "source": [
        "data = pd.read_csv(\"Advertising.csv\")\n",
        "data.head(10)"
      ],
      "metadata": {
        "colab": {
          "base_uri": "https://localhost:8080/",
          "height": 363
        },
        "id": "AlrCwx4Zttsk",
        "outputId": "edb6c3fb-6e8d-43b7-b9d2-e087063f3e66"
      },
      "execution_count": 7,
      "outputs": [
        {
          "output_type": "execute_result",
          "data": {
            "text/plain": [
              "   Unnamed: 0  Radio  Sales\n",
              "0           1   37.8   22.1\n",
              "1           2   39.3   10.4\n",
              "2           3   45.9    9.3\n",
              "3           4   41.3   18.5\n",
              "4           5   10.8   12.9\n",
              "5           6   48.9    7.2\n",
              "6           7   32.8   11.8\n",
              "7           8   19.6   13.2\n",
              "8           9    2.1    4.8\n",
              "9          10    2.6   10.6"
            ],
            "text/html": [
              "\n",
              "  <div id=\"df-9cafd459-1e2b-4658-9557-2261ecdd5f40\">\n",
              "    <div class=\"colab-df-container\">\n",
              "      <div>\n",
              "<style scoped>\n",
              "    .dataframe tbody tr th:only-of-type {\n",
              "        vertical-align: middle;\n",
              "    }\n",
              "\n",
              "    .dataframe tbody tr th {\n",
              "        vertical-align: top;\n",
              "    }\n",
              "\n",
              "    .dataframe thead th {\n",
              "        text-align: right;\n",
              "    }\n",
              "</style>\n",
              "<table border=\"1\" class=\"dataframe\">\n",
              "  <thead>\n",
              "    <tr style=\"text-align: right;\">\n",
              "      <th></th>\n",
              "      <th>Unnamed: 0</th>\n",
              "      <th>Radio</th>\n",
              "      <th>Sales</th>\n",
              "    </tr>\n",
              "  </thead>\n",
              "  <tbody>\n",
              "    <tr>\n",
              "      <th>0</th>\n",
              "      <td>1</td>\n",
              "      <td>37.8</td>\n",
              "      <td>22.1</td>\n",
              "    </tr>\n",
              "    <tr>\n",
              "      <th>1</th>\n",
              "      <td>2</td>\n",
              "      <td>39.3</td>\n",
              "      <td>10.4</td>\n",
              "    </tr>\n",
              "    <tr>\n",
              "      <th>2</th>\n",
              "      <td>3</td>\n",
              "      <td>45.9</td>\n",
              "      <td>9.3</td>\n",
              "    </tr>\n",
              "    <tr>\n",
              "      <th>3</th>\n",
              "      <td>4</td>\n",
              "      <td>41.3</td>\n",
              "      <td>18.5</td>\n",
              "    </tr>\n",
              "    <tr>\n",
              "      <th>4</th>\n",
              "      <td>5</td>\n",
              "      <td>10.8</td>\n",
              "      <td>12.9</td>\n",
              "    </tr>\n",
              "    <tr>\n",
              "      <th>5</th>\n",
              "      <td>6</td>\n",
              "      <td>48.9</td>\n",
              "      <td>7.2</td>\n",
              "    </tr>\n",
              "    <tr>\n",
              "      <th>6</th>\n",
              "      <td>7</td>\n",
              "      <td>32.8</td>\n",
              "      <td>11.8</td>\n",
              "    </tr>\n",
              "    <tr>\n",
              "      <th>7</th>\n",
              "      <td>8</td>\n",
              "      <td>19.6</td>\n",
              "      <td>13.2</td>\n",
              "    </tr>\n",
              "    <tr>\n",
              "      <th>8</th>\n",
              "      <td>9</td>\n",
              "      <td>2.1</td>\n",
              "      <td>4.8</td>\n",
              "    </tr>\n",
              "    <tr>\n",
              "      <th>9</th>\n",
              "      <td>10</td>\n",
              "      <td>2.6</td>\n",
              "      <td>10.6</td>\n",
              "    </tr>\n",
              "  </tbody>\n",
              "</table>\n",
              "</div>\n",
              "      <button class=\"colab-df-convert\" onclick=\"convertToInteractive('df-9cafd459-1e2b-4658-9557-2261ecdd5f40')\"\n",
              "              title=\"Convert this dataframe to an interactive table.\"\n",
              "              style=\"display:none;\">\n",
              "        \n",
              "  <svg xmlns=\"http://www.w3.org/2000/svg\" height=\"24px\"viewBox=\"0 0 24 24\"\n",
              "       width=\"24px\">\n",
              "    <path d=\"M0 0h24v24H0V0z\" fill=\"none\"/>\n",
              "    <path d=\"M18.56 5.44l.94 2.06.94-2.06 2.06-.94-2.06-.94-.94-2.06-.94 2.06-2.06.94zm-11 1L8.5 8.5l.94-2.06 2.06-.94-2.06-.94L8.5 2.5l-.94 2.06-2.06.94zm10 10l.94 2.06.94-2.06 2.06-.94-2.06-.94-.94-2.06-.94 2.06-2.06.94z\"/><path d=\"M17.41 7.96l-1.37-1.37c-.4-.4-.92-.59-1.43-.59-.52 0-1.04.2-1.43.59L10.3 9.45l-7.72 7.72c-.78.78-.78 2.05 0 2.83L4 21.41c.39.39.9.59 1.41.59.51 0 1.02-.2 1.41-.59l7.78-7.78 2.81-2.81c.8-.78.8-2.07 0-2.86zM5.41 20L4 18.59l7.72-7.72 1.47 1.35L5.41 20z\"/>\n",
              "  </svg>\n",
              "      </button>\n",
              "      \n",
              "  <style>\n",
              "    .colab-df-container {\n",
              "      display:flex;\n",
              "      flex-wrap:wrap;\n",
              "      gap: 12px;\n",
              "    }\n",
              "\n",
              "    .colab-df-convert {\n",
              "      background-color: #E8F0FE;\n",
              "      border: none;\n",
              "      border-radius: 50%;\n",
              "      cursor: pointer;\n",
              "      display: none;\n",
              "      fill: #1967D2;\n",
              "      height: 32px;\n",
              "      padding: 0 0 0 0;\n",
              "      width: 32px;\n",
              "    }\n",
              "\n",
              "    .colab-df-convert:hover {\n",
              "      background-color: #E2EBFA;\n",
              "      box-shadow: 0px 1px 2px rgba(60, 64, 67, 0.3), 0px 1px 3px 1px rgba(60, 64, 67, 0.15);\n",
              "      fill: #174EA6;\n",
              "    }\n",
              "\n",
              "    [theme=dark] .colab-df-convert {\n",
              "      background-color: #3B4455;\n",
              "      fill: #D2E3FC;\n",
              "    }\n",
              "\n",
              "    [theme=dark] .colab-df-convert:hover {\n",
              "      background-color: #434B5C;\n",
              "      box-shadow: 0px 1px 3px 1px rgba(0, 0, 0, 0.15);\n",
              "      filter: drop-shadow(0px 1px 2px rgba(0, 0, 0, 0.3));\n",
              "      fill: #FFFFFF;\n",
              "    }\n",
              "  </style>\n",
              "\n",
              "      <script>\n",
              "        const buttonEl =\n",
              "          document.querySelector('#df-9cafd459-1e2b-4658-9557-2261ecdd5f40 button.colab-df-convert');\n",
              "        buttonEl.style.display =\n",
              "          google.colab.kernel.accessAllowed ? 'block' : 'none';\n",
              "\n",
              "        async function convertToInteractive(key) {\n",
              "          const element = document.querySelector('#df-9cafd459-1e2b-4658-9557-2261ecdd5f40');\n",
              "          const dataTable =\n",
              "            await google.colab.kernel.invokeFunction('convertToInteractive',\n",
              "                                                     [key], {});\n",
              "          if (!dataTable) return;\n",
              "\n",
              "          const docLinkHtml = 'Like what you see? Visit the ' +\n",
              "            '<a target=\"_blank\" href=https://colab.research.google.com/notebooks/data_table.ipynb>data table notebook</a>'\n",
              "            + ' to learn more about interactive tables.';\n",
              "          element.innerHTML = '';\n",
              "          dataTable['output_type'] = 'display_data';\n",
              "          await google.colab.output.renderOutput(dataTable, element);\n",
              "          const docLink = document.createElement('div');\n",
              "          docLink.innerHTML = docLinkHtml;\n",
              "          element.appendChild(docLink);\n",
              "        }\n",
              "      </script>\n",
              "    </div>\n",
              "  </div>\n",
              "  "
            ]
          },
          "metadata": {},
          "execution_count": 7
        }
      ]
    },
    {
      "cell_type": "code",
      "source": [
        "x = data.values[: , 1]\n",
        "x"
      ],
      "metadata": {
        "colab": {
          "base_uri": "https://localhost:8080/"
        },
        "id": "qk-znJAauxgc",
        "outputId": "feac735b-05bb-4c88-fdda-ff2c5e371621"
      },
      "execution_count": 11,
      "outputs": [
        {
          "output_type": "execute_result",
          "data": {
            "text/plain": [
              "array([37.8, 39.3, 45.9, 41.3, 10.8, 48.9, 32.8, 19.6,  2.1,  2.6,  5.8,\n",
              "       24. , 35.1,  7.6, 32.9, 47.7, 36.6, 39.6, 20.5, 23.9, 27.7,  5.1,\n",
              "       15.9, 16.9, 12.6,  3.5, 29.3, 16.7, 27.1, 16. , 28.3, 17.4,  1.5,\n",
              "       20. ,  1.4,  4.1, 43.8, 49.4, 26.7, 37.7, 22.3, 33.4, 27.7,  8.4,\n",
              "       25.7, 22.5,  9.9, 41.5, 15.8, 11.7,  3.1,  9.6, 41.7, 46.2, 28.8,\n",
              "       49.4, 28.1, 19.2, 49.6, 29.5,  2. , 42.7, 15.5, 29.6, 42.8,  9.3,\n",
              "       24.6, 14.5, 27.5, 43.9, 30.6, 14.3, 33. ,  5.7, 24.6, 43.7,  1.6,\n",
              "       28.5, 29.9,  7.7, 26.7,  4.1, 20.3, 44.5, 43. , 18.4, 27.5, 40.6,\n",
              "       25.5, 47.8,  4.9,  1.5, 33.5, 36.5, 14. , 31.6,  3.5, 21. , 42.3,\n",
              "       41.7,  4.3, 36.3, 10.1, 17.2, 34.3, 46.4, 11. ,  0.3,  0.4, 26.9,\n",
              "        8.2, 38. , 15.4, 20.6, 46.8, 35. , 14.3,  0.8, 36.9, 16. , 26.8,\n",
              "       21.7,  2.4, 34.6, 32.3, 11.8, 38.9,  0. , 49. , 12. , 39.6,  2.9,\n",
              "       27.2, 33.5, 38.6, 47. , 39. , 28.9, 25.9, 43.9, 17. , 35.4, 33.2,\n",
              "        5.7, 14.8,  1.9,  7.3, 49. , 40.3, 25.8, 13.9,  8.4, 23.3, 39.7,\n",
              "       21.1, 11.6, 43.5,  1.3, 36.9, 18.4, 18.1, 35.8, 18.1, 36.8, 14.7,\n",
              "        3.4, 37.6,  5.2, 23.6, 10.6, 11.6, 20.9, 20.1,  7.1,  3.4, 48.9,\n",
              "       30.2,  7.8,  2.3, 10. ,  2.6,  5.4,  5.7, 43. , 21.3, 45.1,  2.1,\n",
              "       28.7, 13.9, 12.1, 41.1, 10.8,  4.1, 42. , 35.6,  3.7,  4.9,  9.3,\n",
              "       42. ,  8.6])"
            ]
          },
          "metadata": {},
          "execution_count": 11
        }
      ]
    },
    {
      "cell_type": "code",
      "source": [
        "y = data.values[: , 2]\n",
        "y"
      ],
      "metadata": {
        "colab": {
          "base_uri": "https://localhost:8080/"
        },
        "id": "xeTRj-vhvgmw",
        "outputId": "80d25385-0511-4933-8961-f506864d6c82"
      },
      "execution_count": 12,
      "outputs": [
        {
          "output_type": "execute_result",
          "data": {
            "text/plain": [
              "array([22.1, 10.4,  9.3, 18.5, 12.9,  7.2, 11.8, 13.2,  4.8, 10.6,  8.6,\n",
              "       17.4,  9.2,  9.7, 19. , 22.4, 12.5, 24.4, 11.3, 14.6, 18. , 12.5,\n",
              "        5.6, 15.5,  9.7, 12. , 15. , 15.9, 18.9, 10.5, 21.4, 11.9,  9.6,\n",
              "       17.4,  9.5, 12.8, 25.4, 14.7, 10.1, 21.5, 16.6, 17.1, 20.7, 12.9,\n",
              "        8.5, 14.9, 10.6, 23.2, 14.8,  9.7, 11.4, 10.7, 22.6, 21.2, 20.2,\n",
              "       23.7,  5.5, 13.2, 23.8, 18.4,  8.1, 24.2, 15.7, 14. , 18. ,  9.3,\n",
              "        9.5, 13.4, 18.9, 22.3, 18.3, 12.4,  8.8, 11. , 17. ,  8.7,  6.9,\n",
              "       14.2,  5.3, 11. , 11.8, 12.3, 11.3, 13.6, 21.7, 15.2, 12. , 16. ,\n",
              "       12.9, 16.7, 11.2,  7.3, 19.4, 22.2, 11.5, 16.9, 11.7, 15.5, 25.4,\n",
              "       17.2, 11.7, 23.8, 14.8, 14.7, 20.7, 19.2,  7.2,  8.7,  5.3, 19.8,\n",
              "       13.4, 21.8, 14.1, 15.9, 14.6, 12.6, 12.2,  9.4, 15.9,  6.6, 15.5,\n",
              "        7. , 11.6, 15.2, 19.7, 10.6,  6.6,  8.8, 24.7,  9.7,  1.6, 12.7,\n",
              "        5.7, 19.6, 10.8, 11.6,  9.5, 20.8,  9.6, 20.7, 10.9, 19.2, 20.1,\n",
              "       10.4, 11.4, 10.3, 13.2, 25.4, 10.9, 10.1, 16.1, 11.6, 16.6, 19. ,\n",
              "       15.6,  3.2, 15.3, 10.1,  7.3, 12.9, 14.4, 13.3, 14.9, 18. , 11.9,\n",
              "       11.9,  8. , 12.2, 17.1, 15. ,  8.4, 14.5,  7.6, 11.7, 11.5, 27. ,\n",
              "       20.2, 11.7, 11.8, 12.6, 10.5, 12.2,  8.7, 26.2, 17.6, 22.6, 10.3,\n",
              "       17.3, 15.9,  6.7, 10.8,  9.9,  5.9, 19.6, 17.3,  7.6,  9.7, 12.8,\n",
              "       25.5, 13.4])"
            ]
          },
          "metadata": {},
          "execution_count": 12
        }
      ]
    },
    {
      "cell_type": "code",
      "source": [
        "plt.scatter(x, y, marker='o')\n",
        "plt.show()"
      ],
      "metadata": {
        "colab": {
          "base_uri": "https://localhost:8080/",
          "height": 430
        },
        "id": "3LCLJgLCwEGL",
        "outputId": "b12062ca-ec95-4a92-974b-d82493c5199b"
      },
      "execution_count": 16,
      "outputs": [
        {
          "output_type": "display_data",
          "data": {
            "text/plain": [
              "<Figure size 640x480 with 1 Axes>"
            ],
            "image/png": "[encoded data removed]"
          },
          "metadata": {}
        }
      ]
    },
    {
      "cell_type": "markdown",
      "source": [
        "**Code hàm dự đoán**"
      ],
      "metadata": {
        "id": "O2OI-DgbxGzx"
      }
    },
    {
      "cell_type": "code",
      "source": [
        "def predict(newRadio, weight, bias) :\n",
        "  return weight*newRadio + bias"
      ],
      "metadata": {
        "id": "_E7k9asAxT1R"
      },
      "execution_count": 21,
      "outputs": []
    },
    {
      "cell_type": "markdown",
      "source": [
        "**Code hàm Cost Function**"
      ],
      "metadata": {
        "id": "tIAe9czwxpMO"
      }
    },
    {
      "cell_type": "code",
      "source": [
        "def costFunction(x, y, weight, bias) :\n",
        "  n = len(x)\n",
        "  sum_err = 0\n",
        "\n",
        "  for i in range(n):\n",
        "    sum_err += ( y[i] -(weight * x[i] + bias) )**2\n",
        "\n",
        "  return sum_err/n"
      ],
      "metadata": {
        "id": "WOLeUxVTx0je"
      },
      "execution_count": 23,
      "outputs": []
    },
    {
      "cell_type": "markdown",
      "source": [
        "**Code hàm update weight, bias bằng gradient descent**"
      ],
      "metadata": {
        "id": "uSIAHo7SzHEd"
      }
    },
    {
      "cell_type": "code",
      "source": [
        "def updateWeight(x, y, weight, bias, learning_rate) :\n",
        "  n = len(x)\n",
        "  weight_temp = 0\n",
        "  bias_temp = 0\n",
        "  \n",
        "  for i in range(n) :\n",
        "    weight_temp += -2 * x[i] * (y[i] - (weight * x[i] + bias))\n",
        "    bias_temp += -2 * (y[i] - (weight * x[i] + bias))\n",
        "  \n",
        "  weight -= ( weight_temp/n ) * learning_rate\n",
        "  bias -= ( bias_temp/n ) * learning_rate\n",
        "\n",
        "  return weight, bias"
      ],
      "metadata": {
        "id": "Tqz0kHITzMPI"
      },
      "execution_count": 19,
      "outputs": []
    },
    {
      "cell_type": "markdown",
      "source": [
        "**Code hàm train**"
      ],
      "metadata": {
        "id": "3Hp4dX1x1wfn"
      }
    },
    {
      "cell_type": "code",
      "source": [
        "def train(x, y, weight, bias, learning_rate, iter) :\n",
        "  cost_his = []\n",
        "  for i in range(iter) :\n",
        "    weight, bias = updateWeight(x, y, weight, bias, learning_rate)\n",
        "    cost = costFunction(x, y, weight, bias)\n",
        "    cost_his.append(cost)\n",
        "\n",
        "  return weight, bias, cost_his"
      ],
      "metadata": {
        "id": "7CNjf0rJ11QK"
      },
      "execution_count": 29,
      "outputs": []
    },
    {
      "cell_type": "markdown",
      "source": [
        "**Dự đoán thực tế**"
      ],
      "metadata": {
        "id": "jhfM5y-96Cn4"
      }
    },
    {
      "cell_type": "code",
      "source": [
        "weight, bias, cost = train(x, y, 0.03, 0.0014, 0.001, 100) #weight, bias , learing_rate là các giá trị ta lựa chọn ngẫu nhiên\n",
        "print('weight là:')\n",
        "print(weight)\n",
        "print('bias là:')\n",
        "print(bias)\n",
        "print('CostFunction sau moi lan lap là:')\n",
        "print(cost)"
      ],
      "metadata": {
        "colab": {
          "base_uri": "https://localhost:8080/"
        },
        "id": "ihIP7cj12-ZT",
        "outputId": "40428656-47c2-454a-f999-0eae1598ccd8"
      },
      "execution_count": 37,
      "outputs": [
        {
          "output_type": "stream",
          "name": "stdout",
          "text": [
            "weight là:\n",
            "0.4710320804852796\n",
            "bias là:\n",
            "0.5360604264278621\n",
            "CostFunction sau moi lan lap là:\n",
            "[86.42444871530395, 54.81620707415582, 46.16606399414465, 43.7837062962731, 43.112532699857724, 42.90855123523333, 42.83214120342931, 42.79058316020948, 42.758563860080905, 42.72917253849223, 42.70052246892831, 42.67209853116381, 42.64376006550058, 42.61546864326576, 42.587213745780765, 42.55899247407067, 42.53080400943763, 42.50264810114907, 42.474524653563066, 42.44643361341033, 42.41837493902088, 42.3903485919226, 42.362354534547855, 42.33439272960688, 42.306463139917156, 42.278565728356305, 42.250700457849696, 42.222867291366526, 42.195066191919175, 42.167297122562616, 42.139560046394465, 42.11185492655486, 42.08418172622646, 42.05654040863422, 42.02893093704554, 42.001353274770096, 41.97380738515992, 41.94629323160928, 41.91881077755439, 41.891359986473915, 41.86394082188836, 41.836553247360364, 41.80919722649443, 41.78187272293718, 41.75457970037698, 41.727318122544084, 41.70008795321051, 41.67288915619005, 41.645721695338125, 41.61858553455179, 41.59148063776986, 41.564406968972506, 41.53736449218143, 41.510353171459904, 41.483372970912484, 41.45642385468513, 41.429505786965116, 41.40261873198087, 41.375762654002216, 41.348937517340026, 41.32214328634632, 41.29537992541421, 41.268647398977755, 41.24194567151205, 41.215274707533105, 41.18863447159784, 41.16202492830396, 41.135446042289985, 41.10889777823522, 41.082380100859574, 41.05589297492363, 41.02943636522862, 41.003010236616284, 40.97661455396885, 40.9502492822091, 40.923914386300105, 40.89760983124538, 40.87133558208876, 40.84509160391434, 40.81887786184644, 40.792694321049495, 40.76654094672821, 40.74041770412725, 40.7143245585314, 40.688261475265456, 40.6622284196941, 40.636225357221946, 40.61025225329346, 40.58430907339294, 40.5583957830444, 40.53251234781164, 40.50665873329811, 40.48083490514689, 40.45504082904057, 40.42927647070142, 40.40354179589107, 40.377836770410724, 40.35216136010083, 40.32651553084135, 40.30089924855138]\n"
          ]
        }
      ]
    },
    {
      "cell_type": "markdown",
      "source": [
        "**Vẽ tập hợp các CostFunction sau mỗi lần lặp**"
      ],
      "metadata": {
        "id": "7VY-URTF6KVv"
      }
    },
    {
      "cell_type": "code",
      "source": [
        "n = [ i for i in range(100) ] #100 lần lặp\n",
        "plt.plot(n, cost)\n",
        "plt.show()"
      ],
      "metadata": {
        "colab": {
          "base_uri": "https://localhost:8080/",
          "height": 430
        },
        "id": "mbhZw5wA5_-A",
        "outputId": "b4e2fc4f-47c9-4409-e587-e2a9f224457c"
      },
      "execution_count": 40,
      "outputs": [
        {
          "output_type": "display_data",
          "data": {
            "text/plain": [
              "<Figure size 640x480 with 1 Axes>"
            ],
            "image/png": "[encoded data removed]"
          },
          "metadata": {}
        }
      ]
    },
    {
      "cell_type": "markdown",
      "source": [
        "Nhận xét: ta thấy sau mỗi lần lặp thì lỗi nó sẽ giảm đi như vậy thuật toán của ta đang là đúng đắng"
      ],
      "metadata": {
        "id": "-brvSFMx7OAl"
      }
    },
    {
      "cell_type": "code",
      "source": [
        "pre = predict(19, weight, bias)\n",
        "print('Giá trị dự đoán là :')\n",
        "pre"
      ],
      "metadata": {
        "colab": {
          "base_uri": "https://localhost:8080/"
        },
        "id": "_SsqQ3pK4V5o",
        "outputId": "a5f7ba97-690a-47ec-f6da-4773b6ac2aab"
      },
      "execution_count": 38,
      "outputs": [
        {
          "output_type": "stream",
          "name": "stdout",
          "text": [
            "Giá trị dự đoán là :\n"
          ]
        },
        {
          "output_type": "execute_result",
          "data": {
            "text/plain": [
              "9.485669955648175"
            ]
          },
          "metadata": {},
          "execution_count": 38
        }
      ]
    }
  ]
}